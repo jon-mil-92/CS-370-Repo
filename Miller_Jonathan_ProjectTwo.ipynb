{
 "cells": [
  {
   "cell_type": "markdown",
   "metadata": {},
   "source": [
    "# Treasure Hunt Game Notebook\n",
    "\n",
    "## Read and Review Your Starter Code\n",
    "The theme of this project is a popular treasure hunt game in which the player needs to find the treasure before the pirate does. While you will not be developing the entire game, you will write the part of the game that represents the intelligent agent, which is a pirate in this case. The pirate will try to find the optimal path to the treasure using deep Q-learning. \n",
    "\n",
    "You have been provided with two Python classes and this notebook to help you with this assignment. The first class, TreasureMaze.py, represents the environment, which includes a maze object defined as a matrix. The second class, GameExperience.py, stores the episodes – that is, all the states that come in between the initial state and the terminal state. This is later used by the agent for learning by experience, called \"exploration\". This notebook shows how to play a game. Your task is to complete the deep Q-learning implementation for which a skeleton implementation has been provided. The code blocks you will need to complete has #TODO as a header.\n",
    "\n",
    "First, read and review the next few code and instruction blocks to understand the code that you have been given."
   ]
  },
  {
   "cell_type": "code",
   "execution_count": 1,
   "metadata": {},
   "outputs": [
    {
     "name": "stderr",
     "output_type": "stream",
     "text": [
      "Using TensorFlow backend.\n"
     ]
    }
   ],
   "source": [
    "from __future__ import print_function\n",
    "import os, sys, time, datetime, json, random\n",
    "import numpy as np\n",
    "from keras.models import Sequential\n",
    "from keras.layers.core import Dense, Activation\n",
    "from keras.optimizers import SGD , Adam, RMSprop\n",
    "from keras.layers.advanced_activations import PReLU\n",
    "import matplotlib.pyplot as plt\n",
    "from TreasureMaze import TreasureMaze\n",
    "from GameExperience import GameExperience\n",
    "%matplotlib inline"
   ]
  },
  {
   "cell_type": "markdown",
   "metadata": {},
   "source": [
    "The following code block contains an 8x8 matrix that will be used as a maze object:"
   ]
  },
  {
   "cell_type": "code",
   "execution_count": 2,
   "metadata": {},
   "outputs": [],
   "source": [
    "maze = np.array([\n",
    "    [ 1.,  0.,  1.,  1.,  1.,  1.,  1.,  1.],\n",
    "    [ 1.,  0.,  1.,  1.,  1.,  0.,  1.,  1.],\n",
    "    [ 1.,  1.,  1.,  1.,  0.,  1.,  0.,  1.],\n",
    "    [ 1.,  1.,  1.,  0.,  1.,  1.,  1.,  1.],\n",
    "    [ 1.,  1.,  0.,  1.,  1.,  1.,  1.,  1.],\n",
    "    [ 1.,  1.,  1.,  0.,  1.,  0.,  0.,  0.],\n",
    "    [ 1.,  1.,  1.,  0.,  1.,  1.,  1.,  1.],\n",
    "    [ 1.,  1.,  1.,  1.,  0.,  1.,  1.,  1.]\n",
    "])"
   ]
  },
  {
   "cell_type": "markdown",
   "metadata": {},
   "source": [
    "This helper function allows a visual representation of the maze object:"
   ]
  },
  {
   "cell_type": "code",
   "execution_count": 3,
   "metadata": {},
   "outputs": [],
   "source": [
    "def show(qmaze):\n",
    "    plt.grid('on')\n",
    "    nrows, ncols = qmaze.maze.shape\n",
    "    ax = plt.gca()\n",
    "    ax.set_xticks(np.arange(0.5, nrows, 1))\n",
    "    ax.set_yticks(np.arange(0.5, ncols, 1))\n",
    "    ax.set_xticklabels([])\n",
    "    ax.set_yticklabels([])\n",
    "    canvas = np.copy(qmaze.maze)\n",
    "    for row,col in qmaze.visited:\n",
    "        canvas[row,col] = 0.6\n",
    "    pirate_row, pirate_col, _ = qmaze.state\n",
    "    canvas[pirate_row, pirate_col] = 0.3   # pirate cell\n",
    "    canvas[nrows-1, ncols-1] = 0.9 # treasure cell\n",
    "    img = plt.imshow(canvas, interpolation='none', cmap='gray')\n",
    "    return img"
   ]
  },
  {
   "cell_type": "markdown",
   "metadata": {},
   "source": [
    "The pirate agent can move in four directions: left, right, up, and down. \n",
    "\n",
    "While the agent primarily learns by experience through exploitation, often, the agent can choose to explore the environment to find previously undiscovered paths. This is called \"exploration\" and is defined by epsilon. This value is typically a lower value such as 0.1, which means for every ten attempts, the agent will attempt to learn by experience nine times and will randomly explore a new path one time. You are encouraged to try various values for the exploration factor and see how the algorithm performs."
   ]
  },
  {
   "cell_type": "code",
   "execution_count": 4,
   "metadata": {},
   "outputs": [],
   "source": [
    "LEFT = 0\n",
    "UP = 1\n",
    "RIGHT = 2\n",
    "DOWN = 3\n",
    "\n",
    "\n",
    "# Exploration factor\n",
    "epsilon = 0.1\n",
    "\n",
    "# Actions dictionary\n",
    "actions_dict = {\n",
    "    LEFT: 'left',\n",
    "    UP: 'up',\n",
    "    RIGHT: 'right',\n",
    "    DOWN: 'down',\n",
    "}\n",
    "\n",
    "num_actions = len(actions_dict)\n"
   ]
  },
  {
   "cell_type": "markdown",
   "metadata": {},
   "source": [
    "The sample code block and output below show creating a maze object and performing one action (DOWN), which returns the reward. The resulting updated environment is visualized."
   ]
  },
  {
   "cell_type": "code",
   "execution_count": 5,
   "metadata": {},
   "outputs": [
    {
     "name": "stdout",
     "output_type": "stream",
     "text": [
      "reward= -0.04\n"
     ]
    },
    {
     "data": {
      "text/plain": [
       "<matplotlib.image.AxesImage at 0x15075cd1b88>"
      ]
     },
     "execution_count": 5,
     "metadata": {},
     "output_type": "execute_result"
    },
    {
     "data": {
      "image/png": "[encoded data removed]",
      "text/plain": [
       "<Figure size 432x288 with 1 Axes>"
      ]
     },
     "metadata": {
      "needs_background": "light"
     },
     "output_type": "display_data"
    }
   ],
   "source": [
    "qmaze = TreasureMaze(maze)\n",
    "canvas, reward, game_over = qmaze.act(DOWN)\n",
    "print(\"reward=\", reward)\n",
    "show(qmaze)"
   ]
  },
  {
   "cell_type": "markdown",
   "metadata": {},
   "source": [
    "This function simulates a full game based on the provided trained model. The other parameters include the TreasureMaze object and the starting position of the pirate."
   ]
  },
  {
   "cell_type": "code",
   "execution_count": 6,
   "metadata": {},
   "outputs": [],
   "source": [
    "def play_game(model, qmaze, pirate_cell):\n",
    "    qmaze.reset(pirate_cell)\n",
    "    envstate = qmaze.observe()\n",
    "    while True:\n",
    "        prev_envstate = envstate\n",
    "        # get next action\n",
    "        q = model.predict(prev_envstate)\n",
    "        action = np.argmax(q[0])\n",
    "\n",
    "        # apply action, get rewards and new state\n",
    "        envstate, reward, game_status = qmaze.act(action)\n",
    "        if game_status == 'win':\n",
    "            return True\n",
    "        elif game_status == 'lose':\n",
    "            return False"
   ]
  },
  {
   "cell_type": "markdown",
   "metadata": {},
   "source": [
    "This function helps you to determine whether the pirate can win any game at all. If your maze is not well designed, the pirate may not win any game at all. In this case, your training would not yield any result. The provided maze in this notebook ensures that there is a path to win and you can run this method to check."
   ]
  },
  {
   "cell_type": "code",
   "execution_count": 7,
   "metadata": {},
   "outputs": [],
   "source": [
    "def completion_check(model, qmaze):\n",
    "    for cell in qmaze.free_cells:\n",
    "        if not qmaze.valid_actions(cell):\n",
    "            return False\n",
    "        if not play_game(model, qmaze, cell):\n",
    "            return False\n",
    "    return True"
   ]
  },
  {
   "cell_type": "markdown",
   "metadata": {},
   "source": [
    "The code you have been given in this block will build the neural network model. Review the code and note the number of layers, as well as the activation, optimizer, and loss functions that are used to train the model."
   ]
  },
  {
   "cell_type": "code",
   "execution_count": 8,
   "metadata": {},
   "outputs": [],
   "source": [
    "def build_model(maze):\n",
    "    model = Sequential()\n",
    "    model.add(Dense(maze.size, input_shape=(maze.size,)))\n",
    "    model.add(PReLU())\n",
    "    model.add(Dense(maze.size))\n",
    "    model.add(PReLU())\n",
    "    model.add(Dense(num_actions))\n",
    "    model.compile(optimizer='adam', loss='mse')\n",
    "    return model"
   ]
  },
  {
   "cell_type": "markdown",
   "metadata": {},
   "source": [
    "# #TODO: Complete the Q-Training Algorithm Code Block\n",
    "\n",
    "This is your deep Q-learning implementation. The goal of your deep Q-learning implementation is to find the best possible navigation sequence that results in reaching the treasure cell while maximizing the reward. In your implementation, you need to determine the optimal number of epochs to achieve a 100% win rate.\n",
    "\n",
    "You will need to complete the section starting with #pseudocode. The pseudocode has been included for you."
   ]
  },
  {
   "cell_type": "code",
   "execution_count": 9,
   "metadata": {},
   "outputs": [],
   "source": [
    "def qtrain(model, maze, **opt):\n",
    "\n",
    "    # exploration factor\n",
    "    global epsilon \n",
    "    \n",
    "    # number of epochs\n",
    "    n_epoch = opt.get('n_epoch', 15000)\n",
    "\n",
    "    # maximum memory to store episodes\n",
    "    max_memory = opt.get('max_memory', 1000)\n",
    "\n",
    "    # maximum data size for training\n",
    "    data_size = opt.get('data_size', 50)\n",
    "\n",
    "    # start time\n",
    "    start_time = datetime.datetime.now()\n",
    "\n",
    "    # Construct environment/game from numpy array: maze (see above)\n",
    "    qmaze = TreasureMaze(maze)\n",
    "\n",
    "    # Initialize experience replay object\n",
    "    experience = GameExperience(model, max_memory=max_memory)\n",
    "    \n",
    "    win_history = []   # history of win/lose game\n",
    "    hsize = qmaze.maze.size//2   # history window size\n",
    "    win_rate = 0.0\n",
    "    \n",
    "    # For each epoch:\n",
    "    for epoch in range(n_epoch):\n",
    "        # Initial number of episodes for current epoch\n",
    "        n_episodes = 0\n",
    "    \n",
    "        # Randomly select a free cell\n",
    "        rnd_free_cell_index = np.random.choice(len(qmaze.free_cells))\n",
    "        rnd_row, rnd_col = qmaze.free_cells[rnd_free_cell_index]\n",
    "        pirate_cell = (rnd_row, rnd_col)\n",
    "        \n",
    "        # Reset the maze with agent set to above position  \n",
    "        qmaze.reset(pirate_cell)\n",
    "    \n",
    "        # Get the current state\n",
    "        env_state = qmaze.observe()\n",
    "        \n",
    "        # While state is not game over\n",
    "        while qmaze.game_status() == 'not_over':\n",
    "            # Save the current state\n",
    "            prev_env_state = env_state\n",
    "            \n",
    "            # Choose either to explore or exploit based on epsilon-greedy strategy\n",
    "            if np.random.rand() < epsilon:\n",
    "                # Get the array of valid next actions\n",
    "                valid_actions = qmaze.valid_actions()\n",
    "                \n",
    "                # Choose a random action from the array of valid next actions\n",
    "                action = random.choice(valid_actions)\n",
    "            else:\n",
    "                # Use recall memory to get the next action\n",
    "                q_values = experience.predict(env_state)\n",
    "                action = np.argmax(q_values)\n",
    "        \n",
    "            # Execute action and store the results\n",
    "            env_state, reward, game_status = qmaze.act(action)\n",
    "            \n",
    "            # Store episode in experience replay object\n",
    "            episode = [prev_env_state, action, reward, env_state, game_status]\n",
    "            n_episodes += 1\n",
    "            experience.remember(episode)\n",
    "        \n",
    "            # Train neural network model and evaluate loss\n",
    "            train_input, train_target = experience.get_data()\n",
    "            model.fit(train_input, train_target, verbose=0)\n",
    "            \n",
    "            loss = model.evaluate(train_input, train_target, verbose=0)\n",
    "            \n",
    "            # Update the win history\n",
    "            if game_status == 'win':\n",
    "                win_history.append(1)\n",
    "                \n",
    "            elif game_status == 'lose':\n",
    "                win_history.append(0)\n",
    "                \n",
    "        # Calculate the win rate by getting the sum of wins and dividing by history window size\n",
    "        win_rate = sum(win_history[-hsize:]) / hsize\n",
    "\n",
    "        # Print the epoch, loss, episodes, win count, and win rate for each epoch\n",
    "        dt = datetime.datetime.now() - start_time\n",
    "        t = format_time(dt.total_seconds())\n",
    "        template = \"Epoch: {:03d}/{:d} | Loss: {:.4f} | Episodes: {:d} | Win count: {:d} | Win rate: {:.3f} | time: {}\"\n",
    "        print(template.format(epoch, n_epoch-1, loss, n_episodes, sum(win_history), win_rate, t))\n",
    "        \n",
    "        # We simply check if training has exhausted all free cells and if in all\n",
    "        # cases the agent won.\n",
    "        if win_rate > 0.9 : epsilon = 0.05\n",
    "        if sum(win_history[-hsize:]) == hsize and completion_check(model, qmaze):\n",
    "            print(\"Reached 100%% win rate at epoch: %d\" % (epoch,))\n",
    "            break\n",
    "    \n",
    "    \n",
    "    # Determine the total time for training\n",
    "    dt = datetime.datetime.now() - start_time\n",
    "    seconds = dt.total_seconds()\n",
    "    t = format_time(seconds)\n",
    "\n",
    "    print(\"n_epoch: %d, max_mem: %d, data: %d, time: %s\" % (epoch, max_memory, data_size, t))\n",
    "    return seconds\n",
    "\n",
    "# This is a small utility for printing readable time strings:\n",
    "def format_time(seconds):\n",
    "    if seconds < 400:\n",
    "        s = float(seconds)\n",
    "        return \"%.1f seconds\" % (s,)\n",
    "    elif seconds < 4000:\n",
    "        m = seconds / 60.0\n",
    "        return \"%.2f minutes\" % (m,)\n",
    "    else:\n",
    "        h = seconds / 3600.0\n",
    "        return \"%.2f hours\" % (h,)"
   ]
  },
  {
   "cell_type": "markdown",
   "metadata": {},
   "source": [
    "## Test Your Model\n",
    "\n",
    "Now we will start testing the deep Q-learning implementation. To begin, select **Cell**, then **Run All** from the menu bar. This will run your notebook. As it runs, you should see output begin to appear beneath the next few cells. The code below creates an instance of TreasureMaze."
   ]
  },
  {
   "cell_type": "code",
   "execution_count": 10,
   "metadata": {},
   "outputs": [
    {
     "data": {
      "text/plain": [
       "<matplotlib.image.AxesImage at 0x15075d990c8>"
      ]
     },
     "execution_count": 10,
     "metadata": {},
     "output_type": "execute_result"
    },
    {
     "data": {
      "image/png": "[encoded data removed]",
      "text/plain": [
       "<Figure size 432x288 with 1 Axes>"
      ]
     },
     "metadata": {
      "needs_background": "light"
     },
     "output_type": "display_data"
    }
   ],
   "source": [
    "qmaze = TreasureMaze(maze)\n",
    "show(qmaze)"
   ]
  },
  {
   "cell_type": "markdown",
   "metadata": {},
   "source": [
    "In the next code block, you will build your model and train it using deep Q-learning. Note: This step takes several minutes to fully run."
   ]
  },
  {
   "cell_type": "code",
   "execution_count": 11,
   "metadata": {},
   "outputs": [
    {
     "name": "stdout",
     "output_type": "stream",
     "text": [
      "Epoch: 000/14999 | Loss: 0.0005 | Episodes: 142 | Win count: 0 | Win rate: 0.000 | time: 11.1 seconds\n",
      "Epoch: 001/14999 | Loss: 0.0017 | Episodes: 146 | Win count: 0 | Win rate: 0.000 | time: 15.1 seconds\n",
      "Epoch: 002/14999 | Loss: 0.0016 | Episodes: 139 | Win count: 0 | Win rate: 0.000 | time: 18.5 seconds\n",
      "Epoch: 003/14999 | Loss: 0.0017 | Episodes: 142 | Win count: 0 | Win rate: 0.000 | time: 22.0 seconds\n",
      "Epoch: 004/14999 | Loss: 0.0013 | Episodes: 131 | Win count: 1 | Win rate: 0.031 | time: 25.0 seconds\n",
      "Epoch: 005/14999 | Loss: 0.0008 | Episodes: 143 | Win count: 1 | Win rate: 0.031 | time: 28.4 seconds\n",
      "Epoch: 006/14999 | Loss: 0.0015 | Episodes: 139 | Win count: 1 | Win rate: 0.031 | time: 32.5 seconds\n",
      "Epoch: 007/14999 | Loss: 0.0015 | Episodes: 140 | Win count: 1 | Win rate: 0.031 | time: 35.7 seconds\n",
      "Epoch: 008/14999 | Loss: 0.0008 | Episodes: 49 | Win count: 2 | Win rate: 0.062 | time: 36.9 seconds\n",
      "Epoch: 009/14999 | Loss: 0.0002 | Episodes: 142 | Win count: 2 | Win rate: 0.062 | time: 40.3 seconds\n",
      "Epoch: 010/14999 | Loss: 0.0019 | Episodes: 139 | Win count: 2 | Win rate: 0.062 | time: 43.7 seconds\n",
      "Epoch: 011/14999 | Loss: 0.0028 | Episodes: 149 | Win count: 2 | Win rate: 0.062 | time: 47.0 seconds\n",
      "Epoch: 012/14999 | Loss: 0.0006 | Episodes: 140 | Win count: 2 | Win rate: 0.062 | time: 50.7 seconds\n",
      "Epoch: 013/14999 | Loss: 0.0008 | Episodes: 136 | Win count: 2 | Win rate: 0.062 | time: 53.8 seconds\n",
      "Epoch: 014/14999 | Loss: 0.0010 | Episodes: 141 | Win count: 2 | Win rate: 0.062 | time: 57.2 seconds\n",
      "Epoch: 015/14999 | Loss: 0.0008 | Episodes: 145 | Win count: 2 | Win rate: 0.062 | time: 60.4 seconds\n",
      "Epoch: 016/14999 | Loss: 0.0019 | Episodes: 146 | Win count: 2 | Win rate: 0.062 | time: 63.5 seconds\n",
      "Epoch: 017/14999 | Loss: 0.0003 | Episodes: 136 | Win count: 2 | Win rate: 0.062 | time: 66.5 seconds\n",
      "Epoch: 018/14999 | Loss: 0.0007 | Episodes: 135 | Win count: 2 | Win rate: 0.062 | time: 69.5 seconds\n",
      "Epoch: 019/14999 | Loss: 0.0017 | Episodes: 146 | Win count: 2 | Win rate: 0.062 | time: 72.9 seconds\n",
      "Epoch: 020/14999 | Loss: 0.0009 | Episodes: 144 | Win count: 2 | Win rate: 0.062 | time: 76.0 seconds\n",
      "Epoch: 021/14999 | Loss: 0.0009 | Episodes: 144 | Win count: 2 | Win rate: 0.062 | time: 78.9 seconds\n",
      "Epoch: 022/14999 | Loss: 0.0004 | Episodes: 142 | Win count: 2 | Win rate: 0.062 | time: 82.2 seconds\n",
      "Epoch: 023/14999 | Loss: 0.0009 | Episodes: 62 | Win count: 3 | Win rate: 0.094 | time: 83.3 seconds\n",
      "Epoch: 024/14999 | Loss: 0.0011 | Episodes: 141 | Win count: 3 | Win rate: 0.094 | time: 86.1 seconds\n",
      "Epoch: 025/14999 | Loss: 0.0002 | Episodes: 149 | Win count: 3 | Win rate: 0.094 | time: 89.1 seconds\n",
      "Epoch: 026/14999 | Loss: 0.0008 | Episodes: 147 | Win count: 3 | Win rate: 0.094 | time: 92.7 seconds\n",
      "Epoch: 027/14999 | Loss: 0.0008 | Episodes: 144 | Win count: 3 | Win rate: 0.094 | time: 96.0 seconds\n",
      "Epoch: 028/14999 | Loss: 0.0024 | Episodes: 125 | Win count: 4 | Win rate: 0.125 | time: 99.2 seconds\n",
      "Epoch: 029/14999 | Loss: 0.0004 | Episodes: 138 | Win count: 4 | Win rate: 0.125 | time: 102.1 seconds\n",
      "Epoch: 030/14999 | Loss: 0.0003 | Episodes: 155 | Win count: 4 | Win rate: 0.125 | time: 105.7 seconds\n",
      "Epoch: 031/14999 | Loss: 0.0010 | Episodes: 149 | Win count: 4 | Win rate: 0.125 | time: 108.9 seconds\n",
      "Epoch: 032/14999 | Loss: 0.0005 | Episodes: 146 | Win count: 4 | Win rate: 0.125 | time: 112.0 seconds\n",
      "Epoch: 033/14999 | Loss: 0.0018 | Episodes: 114 | Win count: 5 | Win rate: 0.156 | time: 114.0 seconds\n",
      "Epoch: 034/14999 | Loss: 0.0001 | Episodes: 39 | Win count: 6 | Win rate: 0.188 | time: 114.7 seconds\n",
      "Epoch: 035/14999 | Loss: 0.0008 | Episodes: 139 | Win count: 6 | Win rate: 0.188 | time: 117.3 seconds\n",
      "Epoch: 036/14999 | Loss: 0.0009 | Episodes: 10 | Win count: 7 | Win rate: 0.188 | time: 117.5 seconds\n",
      "Epoch: 037/14999 | Loss: 0.0011 | Episodes: 145 | Win count: 7 | Win rate: 0.188 | time: 120.6 seconds\n",
      "Epoch: 038/14999 | Loss: 0.0001 | Episodes: 150 | Win count: 7 | Win rate: 0.188 | time: 123.6 seconds\n",
      "Epoch: 039/14999 | Loss: 0.0011 | Episodes: 9 | Win count: 8 | Win rate: 0.219 | time: 123.8 seconds\n",
      "Epoch: 040/14999 | Loss: 0.0045 | Episodes: 147 | Win count: 8 | Win rate: 0.188 | time: 127.1 seconds\n",
      "Epoch: 041/14999 | Loss: 0.0021 | Episodes: 137 | Win count: 8 | Win rate: 0.188 | time: 130.3 seconds\n",
      "Epoch: 042/14999 | Loss: 0.0019 | Episodes: 144 | Win count: 8 | Win rate: 0.188 | time: 133.9 seconds\n",
      "Epoch: 043/14999 | Loss: 0.0009 | Episodes: 136 | Win count: 8 | Win rate: 0.188 | time: 136.8 seconds\n",
      "Epoch: 044/14999 | Loss: 0.0001 | Episodes: 24 | Win count: 9 | Win rate: 0.219 | time: 137.3 seconds\n",
      "Epoch: 045/14999 | Loss: 0.0012 | Episodes: 147 | Win count: 9 | Win rate: 0.219 | time: 140.7 seconds\n",
      "Epoch: 046/14999 | Loss: 0.0015 | Episodes: 145 | Win count: 9 | Win rate: 0.219 | time: 143.8 seconds\n",
      "Epoch: 047/14999 | Loss: 0.0017 | Episodes: 145 | Win count: 9 | Win rate: 0.219 | time: 146.9 seconds\n",
      "Epoch: 048/14999 | Loss: 0.0001 | Episodes: 52 | Win count: 10 | Win rate: 0.250 | time: 147.9 seconds\n",
      "Epoch: 049/14999 | Loss: 0.0018 | Episodes: 140 | Win count: 10 | Win rate: 0.250 | time: 151.7 seconds\n",
      "Epoch: 050/14999 | Loss: 0.0013 | Episodes: 48 | Win count: 11 | Win rate: 0.281 | time: 153.0 seconds\n",
      "Epoch: 051/14999 | Loss: 0.0015 | Episodes: 139 | Win count: 11 | Win rate: 0.281 | time: 156.4 seconds\n",
      "Epoch: 052/14999 | Loss: 0.0001 | Episodes: 139 | Win count: 11 | Win rate: 0.281 | time: 159.8 seconds\n",
      "Epoch: 053/14999 | Loss: 0.0021 | Episodes: 142 | Win count: 11 | Win rate: 0.281 | time: 163.5 seconds\n",
      "Epoch: 054/14999 | Loss: 0.0011 | Episodes: 83 | Win count: 12 | Win rate: 0.312 | time: 165.5 seconds\n",
      "Epoch: 055/14999 | Loss: 0.0011 | Episodes: 133 | Win count: 12 | Win rate: 0.281 | time: 168.7 seconds\n",
      "Epoch: 056/14999 | Loss: 0.0010 | Episodes: 134 | Win count: 12 | Win rate: 0.281 | time: 171.8 seconds\n",
      "Epoch: 057/14999 | Loss: 0.0003 | Episodes: 144 | Win count: 12 | Win rate: 0.281 | time: 175.1 seconds\n",
      "Epoch: 058/14999 | Loss: 0.0012 | Episodes: 144 | Win count: 12 | Win rate: 0.281 | time: 178.3 seconds\n",
      "Epoch: 059/14999 | Loss: 0.0001 | Episodes: 149 | Win count: 12 | Win rate: 0.281 | time: 181.7 seconds\n",
      "Epoch: 060/14999 | Loss: 0.0017 | Episodes: 140 | Win count: 12 | Win rate: 0.250 | time: 185.2 seconds\n",
      "Epoch: 061/14999 | Loss: 0.0011 | Episodes: 139 | Win count: 12 | Win rate: 0.250 | time: 188.3 seconds\n",
      "Epoch: 062/14999 | Loss: 0.0022 | Episodes: 33 | Win count: 13 | Win rate: 0.281 | time: 189.0 seconds\n",
      "Epoch: 063/14999 | Loss: 0.0016 | Episodes: 137 | Win count: 13 | Win rate: 0.281 | time: 192.0 seconds\n",
      "Epoch: 064/14999 | Loss: 0.0013 | Episodes: 59 | Win count: 14 | Win rate: 0.312 | time: 193.2 seconds\n",
      "Epoch: 065/14999 | Loss: 0.0002 | Episodes: 135 | Win count: 14 | Win rate: 0.281 | time: 196.4 seconds\n",
      "Epoch: 066/14999 | Loss: 0.0015 | Episodes: 150 | Win count: 14 | Win rate: 0.250 | time: 199.4 seconds\n",
      "Epoch: 067/14999 | Loss: 0.0019 | Episodes: 138 | Win count: 14 | Win rate: 0.250 | time: 202.2 seconds\n",
      "Epoch: 068/14999 | Loss: 0.0004 | Episodes: 3 | Win count: 15 | Win rate: 0.250 | time: 202.2 seconds\n",
      "Epoch: 069/14999 | Loss: 0.0001 | Episodes: 114 | Win count: 16 | Win rate: 0.281 | time: 204.6 seconds\n",
      "Epoch: 070/14999 | Loss: 0.0007 | Episodes: 20 | Win count: 17 | Win rate: 0.312 | time: 205.1 seconds\n",
      "Epoch: 071/14999 | Loss: 0.0316 | Episodes: 139 | Win count: 17 | Win rate: 0.281 | time: 208.1 seconds\n",
      "Epoch: 072/14999 | Loss: 0.0038 | Episodes: 5 | Win count: 18 | Win rate: 0.312 | time: 208.2 seconds\n",
      "Epoch: 073/14999 | Loss: 0.0044 | Episodes: 2 | Win count: 19 | Win rate: 0.344 | time: 208.2 seconds\n",
      "Epoch: 074/14999 | Loss: 0.0018 | Episodes: 137 | Win count: 20 | Win rate: 0.375 | time: 211.3 seconds\n",
      "Epoch: 075/14999 | Loss: 0.0065 | Episodes: 141 | Win count: 20 | Win rate: 0.375 | time: 214.7 seconds\n",
      "Epoch: 076/14999 | Loss: 0.0006 | Episodes: 68 | Win count: 21 | Win rate: 0.375 | time: 216.5 seconds\n",
      "Epoch: 077/14999 | Loss: 0.0263 | Episodes: 134 | Win count: 21 | Win rate: 0.375 | time: 220.0 seconds\n",
      "Epoch: 078/14999 | Loss: 0.0011 | Episodes: 135 | Win count: 21 | Win rate: 0.375 | time: 223.6 seconds\n",
      "Epoch: 079/14999 | Loss: 0.0002 | Episodes: 134 | Win count: 21 | Win rate: 0.375 | time: 227.0 seconds\n",
      "Epoch: 080/14999 | Loss: 0.0001 | Episodes: 1 | Win count: 22 | Win rate: 0.375 | time: 227.0 seconds\n",
      "Epoch: 081/14999 | Loss: 0.0011 | Episodes: 130 | Win count: 23 | Win rate: 0.406 | time: 229.7 seconds\n",
      "Epoch: 082/14999 | Loss: 0.0011 | Episodes: 72 | Win count: 24 | Win rate: 0.406 | time: 231.1 seconds\n",
      "Epoch: 083/14999 | Loss: 0.0001 | Episodes: 1 | Win count: 25 | Win rate: 0.438 | time: 231.1 seconds\n",
      "Epoch: 084/14999 | Loss: 0.0016 | Episodes: 139 | Win count: 25 | Win rate: 0.438 | time: 234.2 seconds\n",
      "Epoch: 085/14999 | Loss: 0.0020 | Episodes: 144 | Win count: 25 | Win rate: 0.438 | time: 237.6 seconds\n",
      "Epoch: 086/14999 | Loss: 0.0046 | Episodes: 74 | Win count: 26 | Win rate: 0.438 | time: 239.2 seconds\n",
      "Epoch: 087/14999 | Loss: 0.0008 | Episodes: 142 | Win count: 26 | Win rate: 0.438 | time: 242.3 seconds\n",
      "Epoch: 088/14999 | Loss: 0.0010 | Episodes: 136 | Win count: 26 | Win rate: 0.438 | time: 245.2 seconds\n",
      "Epoch: 089/14999 | Loss: 0.0026 | Episodes: 137 | Win count: 26 | Win rate: 0.438 | time: 248.3 seconds\n",
      "Epoch: 090/14999 | Loss: 0.0002 | Episodes: 143 | Win count: 26 | Win rate: 0.438 | time: 251.8 seconds\n",
      "Epoch: 091/14999 | Loss: 0.0001 | Episodes: 137 | Win count: 26 | Win rate: 0.438 | time: 254.8 seconds\n",
      "Epoch: 092/14999 | Loss: 0.0003 | Episodes: 152 | Win count: 26 | Win rate: 0.438 | time: 258.1 seconds\n",
      "Epoch: 093/14999 | Loss: 0.0003 | Episodes: 142 | Win count: 26 | Win rate: 0.438 | time: 262.3 seconds\n",
      "Epoch: 094/14999 | Loss: 0.0021 | Episodes: 153 | Win count: 26 | Win rate: 0.406 | time: 265.8 seconds\n",
      "Epoch: 095/14999 | Loss: 0.0010 | Episodes: 40 | Win count: 27 | Win rate: 0.438 | time: 266.7 seconds\n",
      "Epoch: 096/14999 | Loss: 0.0015 | Episodes: 85 | Win count: 28 | Win rate: 0.438 | time: 268.9 seconds\n",
      "Epoch: 097/14999 | Loss: 0.0010 | Episodes: 139 | Win count: 28 | Win rate: 0.438 | time: 272.3 seconds\n",
      "Epoch: 098/14999 | Loss: 0.0016 | Episodes: 111 | Win count: 29 | Win rate: 0.469 | time: 274.8 seconds\n",
      "Epoch: 099/14999 | Loss: 0.0014 | Episodes: 147 | Win count: 29 | Win rate: 0.469 | time: 277.8 seconds\n",
      "Epoch: 100/14999 | Loss: 0.0010 | Episodes: 141 | Win count: 29 | Win rate: 0.438 | time: 280.7 seconds\n",
      "Epoch: 101/14999 | Loss: 0.0013 | Episodes: 141 | Win count: 29 | Win rate: 0.406 | time: 284.3 seconds\n",
      "Epoch: 102/14999 | Loss: 0.0004 | Episodes: 31 | Win count: 30 | Win rate: 0.406 | time: 285.1 seconds\n",
      "Epoch: 103/14999 | Loss: 0.0010 | Episodes: 135 | Win count: 30 | Win rate: 0.406 | time: 288.1 seconds\n",
      "Epoch: 104/14999 | Loss: 0.0009 | Episodes: 56 | Win count: 31 | Win rate: 0.406 | time: 289.3 seconds\n",
      "Epoch: 105/14999 | Loss: 0.0019 | Episodes: 141 | Win count: 31 | Win rate: 0.375 | time: 292.6 seconds\n",
      "Epoch: 106/14999 | Loss: 0.0019 | Episodes: 21 | Win count: 32 | Win rate: 0.375 | time: 293.2 seconds\n",
      "Epoch: 107/14999 | Loss: 0.0011 | Episodes: 134 | Win count: 32 | Win rate: 0.375 | time: 296.4 seconds\n",
      "Epoch: 108/14999 | Loss: 0.0010 | Episodes: 139 | Win count: 32 | Win rate: 0.344 | time: 299.3 seconds\n",
      "Epoch: 109/14999 | Loss: 0.0012 | Episodes: 147 | Win count: 32 | Win rate: 0.344 | time: 302.8 seconds\n",
      "Epoch: 110/14999 | Loss: 0.0009 | Episodes: 138 | Win count: 32 | Win rate: 0.344 | time: 305.8 seconds\n",
      "Epoch: 111/14999 | Loss: 0.0002 | Episodes: 90 | Win count: 33 | Win rate: 0.375 | time: 307.8 seconds\n",
      "Epoch: 112/14999 | Loss: 0.0018 | Episodes: 142 | Win count: 33 | Win rate: 0.344 | time: 311.0 seconds\n",
      "Epoch: 113/14999 | Loss: 0.0016 | Episodes: 1 | Win count: 34 | Win rate: 0.344 | time: 311.1 seconds\n",
      "Epoch: 114/14999 | Loss: 0.0018 | Episodes: 146 | Win count: 34 | Win rate: 0.312 | time: 314.9 seconds\n",
      "Epoch: 115/14999 | Loss: 0.0008 | Episodes: 27 | Win count: 35 | Win rate: 0.312 | time: 315.6 seconds\n",
      "Epoch: 116/14999 | Loss: 0.0011 | Episodes: 2 | Win count: 36 | Win rate: 0.344 | time: 315.7 seconds\n",
      "Epoch: 117/14999 | Loss: 0.0030 | Episodes: 147 | Win count: 36 | Win rate: 0.344 | time: 319.6 seconds\n",
      "Epoch: 118/14999 | Loss: 0.0018 | Episodes: 151 | Win count: 36 | Win rate: 0.312 | time: 323.4 seconds\n",
      "Epoch: 119/14999 | Loss: 0.0034 | Episodes: 36 | Win count: 37 | Win rate: 0.344 | time: 324.2 seconds\n",
      "Epoch: 120/14999 | Loss: 0.0015 | Episodes: 143 | Win count: 37 | Win rate: 0.344 | time: 327.5 seconds\n",
      "Epoch: 121/14999 | Loss: 0.0020 | Episodes: 36 | Win count: 38 | Win rate: 0.375 | time: 328.4 seconds\n",
      "Epoch: 122/14999 | Loss: 0.0010 | Episodes: 5 | Win count: 39 | Win rate: 0.406 | time: 328.5 seconds\n",
      "Epoch: 123/14999 | Loss: 0.0041 | Episodes: 147 | Win count: 39 | Win rate: 0.406 | time: 331.9 seconds\n",
      "Epoch: 124/14999 | Loss: 0.0007 | Episodes: 111 | Win count: 40 | Win rate: 0.438 | time: 334.9 seconds\n",
      "Epoch: 125/14999 | Loss: 0.0018 | Episodes: 136 | Win count: 40 | Win rate: 0.438 | time: 338.2 seconds\n",
      "Epoch: 126/14999 | Loss: 0.0004 | Episodes: 135 | Win count: 40 | Win rate: 0.438 | time: 341.4 seconds\n",
      "Epoch: 127/14999 | Loss: 0.0028 | Episodes: 136 | Win count: 40 | Win rate: 0.406 | time: 344.5 seconds\n",
      "Epoch: 128/14999 | Loss: 0.0009 | Episodes: 69 | Win count: 41 | Win rate: 0.406 | time: 346.3 seconds\n",
      "Epoch: 129/14999 | Loss: 0.0016 | Episodes: 35 | Win count: 42 | Win rate: 0.438 | time: 347.2 seconds\n",
      "Epoch: 130/14999 | Loss: 0.0006 | Episodes: 22 | Win count: 43 | Win rate: 0.438 | time: 347.8 seconds\n",
      "Epoch: 131/14999 | Loss: 0.0023 | Episodes: 145 | Win count: 43 | Win rate: 0.438 | time: 351.6 seconds\n",
      "Epoch: 132/14999 | Loss: 0.0007 | Episodes: 13 | Win count: 44 | Win rate: 0.469 | time: 351.8 seconds\n",
      "Epoch: 133/14999 | Loss: 0.0006 | Episodes: 134 | Win count: 44 | Win rate: 0.469 | time: 354.6 seconds\n",
      "Epoch: 134/14999 | Loss: 0.0022 | Episodes: 22 | Win count: 45 | Win rate: 0.469 | time: 355.2 seconds\n",
      "Epoch: 135/14999 | Loss: 0.0015 | Episodes: 106 | Win count: 46 | Win rate: 0.500 | time: 357.5 seconds\n",
      "Epoch: 136/14999 | Loss: 0.0011 | Episodes: 1 | Win count: 47 | Win rate: 0.500 | time: 357.5 seconds\n",
      "Epoch: 137/14999 | Loss: 0.0006 | Episodes: 92 | Win count: 48 | Win rate: 0.531 | time: 359.8 seconds\n",
      "Epoch: 138/14999 | Loss: 0.0018 | Episodes: 17 | Win count: 49 | Win rate: 0.531 | time: 360.1 seconds\n",
      "Epoch: 139/14999 | Loss: 0.0023 | Episodes: 143 | Win count: 49 | Win rate: 0.531 | time: 363.4 seconds\n",
      "Epoch: 140/14999 | Loss: 0.0016 | Episodes: 67 | Win count: 50 | Win rate: 0.562 | time: 365.0 seconds\n",
      "Epoch: 141/14999 | Loss: 0.0016 | Episodes: 21 | Win count: 51 | Win rate: 0.594 | time: 365.6 seconds\n",
      "Epoch: 142/14999 | Loss: 0.0018 | Episodes: 142 | Win count: 51 | Win rate: 0.594 | time: 369.0 seconds\n",
      "Epoch: 143/14999 | Loss: 0.0051 | Episodes: 79 | Win count: 52 | Win rate: 0.594 | time: 371.2 seconds\n",
      "Epoch: 144/14999 | Loss: 0.0009 | Episodes: 156 | Win count: 52 | Win rate: 0.594 | time: 375.2 seconds\n",
      "Epoch: 145/14999 | Loss: 0.0002 | Episodes: 78 | Win count: 53 | Win rate: 0.594 | time: 377.0 seconds\n",
      "Epoch: 146/14999 | Loss: 0.0008 | Episodes: 14 | Win count: 54 | Win rate: 0.625 | time: 377.4 seconds\n",
      "Epoch: 147/14999 | Loss: 0.0015 | Episodes: 16 | Win count: 55 | Win rate: 0.625 | time: 377.7 seconds\n",
      "Epoch: 148/14999 | Loss: 0.0020 | Episodes: 7 | Win count: 56 | Win rate: 0.625 | time: 377.9 seconds\n",
      "Epoch: 149/14999 | Loss: 0.0009 | Episodes: 8 | Win count: 57 | Win rate: 0.656 | time: 378.1 seconds\n",
      "Epoch: 150/14999 | Loss: 0.0015 | Episodes: 138 | Win count: 57 | Win rate: 0.656 | time: 381.9 seconds\n",
      "Epoch: 151/14999 | Loss: 0.0002 | Episodes: 90 | Win count: 58 | Win rate: 0.656 | time: 383.9 seconds\n",
      "Epoch: 152/14999 | Loss: 0.0027 | Episodes: 87 | Win count: 59 | Win rate: 0.688 | time: 385.8 seconds\n",
      "Epoch: 153/14999 | Loss: 0.0022 | Episodes: 146 | Win count: 59 | Win rate: 0.656 | time: 389.2 seconds\n",
      "Epoch: 154/14999 | Loss: 0.0016 | Episodes: 25 | Win count: 60 | Win rate: 0.656 | time: 389.7 seconds\n",
      "Epoch: 155/14999 | Loss: 0.0012 | Episodes: 157 | Win count: 60 | Win rate: 0.656 | time: 393.5 seconds\n",
      "Epoch: 156/14999 | Loss: 0.0021 | Episodes: 43 | Win count: 61 | Win rate: 0.656 | time: 394.5 seconds\n",
      "Epoch: 157/14999 | Loss: 0.0026 | Episodes: 18 | Win count: 62 | Win rate: 0.688 | time: 395.0 seconds\n",
      "Epoch: 158/14999 | Loss: 0.0011 | Episodes: 31 | Win count: 63 | Win rate: 0.719 | time: 395.7 seconds\n",
      "Epoch: 159/14999 | Loss: 0.0013 | Episodes: 3 | Win count: 64 | Win rate: 0.750 | time: 395.8 seconds\n",
      "Epoch: 160/14999 | Loss: 0.0033 | Episodes: 8 | Win count: 65 | Win rate: 0.750 | time: 396.0 seconds\n",
      "Epoch: 161/14999 | Loss: 0.0018 | Episodes: 140 | Win count: 65 | Win rate: 0.719 | time: 399.4 seconds\n",
      "Epoch: 162/14999 | Loss: 0.0014 | Episodes: 22 | Win count: 66 | Win rate: 0.719 | time: 399.9 seconds\n",
      "Epoch: 163/14999 | Loss: 0.0014 | Episodes: 139 | Win count: 66 | Win rate: 0.719 | time: 6.73 minutes\n",
      "Epoch: 164/14999 | Loss: 0.0013 | Episodes: 134 | Win count: 66 | Win rate: 0.688 | time: 6.78 minutes\n",
      "Epoch: 165/14999 | Loss: 0.0028 | Episodes: 9 | Win count: 67 | Win rate: 0.719 | time: 6.79 minutes\n",
      "Epoch: 166/14999 | Loss: 0.0002 | Episodes: 135 | Win count: 67 | Win rate: 0.688 | time: 6.85 minutes\n",
      "Epoch: 167/14999 | Loss: 0.0018 | Episodes: 144 | Win count: 67 | Win rate: 0.656 | time: 6.90 minutes\n",
      "Epoch: 168/14999 | Loss: 0.0010 | Episodes: 3 | Win count: 68 | Win rate: 0.656 | time: 6.90 minutes\n",
      "Epoch: 169/14999 | Loss: 0.0007 | Episodes: 149 | Win count: 68 | Win rate: 0.625 | time: 6.96 minutes\n",
      "Epoch: 170/14999 | Loss: 0.0009 | Episodes: 107 | Win count: 69 | Win rate: 0.625 | time: 7.00 minutes\n",
      "Epoch: 171/14999 | Loss: 0.0010 | Episodes: 139 | Win count: 69 | Win rate: 0.625 | time: 7.05 minutes\n",
      "Epoch: 172/14999 | Loss: 0.0010 | Episodes: 145 | Win count: 69 | Win rate: 0.594 | time: 7.10 minutes\n",
      "Epoch: 173/14999 | Loss: 0.0014 | Episodes: 139 | Win count: 69 | Win rate: 0.562 | time: 7.15 minutes\n",
      "Epoch: 174/14999 | Loss: 0.0009 | Episodes: 139 | Win count: 69 | Win rate: 0.562 | time: 7.21 minutes\n",
      "Epoch: 175/14999 | Loss: 0.0001 | Episodes: 142 | Win count: 70 | Win rate: 0.562 | time: 7.27 minutes\n",
      "Epoch: 176/14999 | Loss: 0.0023 | Episodes: 140 | Win count: 70 | Win rate: 0.562 | time: 7.32 minutes\n",
      "Epoch: 177/14999 | Loss: 0.0025 | Episodes: 87 | Win count: 71 | Win rate: 0.562 | time: 7.35 minutes\n",
      "Epoch: 178/14999 | Loss: 0.0011 | Episodes: 32 | Win count: 72 | Win rate: 0.562 | time: 7.37 minutes\n",
      "Epoch: 179/14999 | Loss: 0.0022 | Episodes: 144 | Win count: 72 | Win rate: 0.531 | time: 7.42 minutes\n",
      "Epoch: 180/14999 | Loss: 0.0028 | Episodes: 49 | Win count: 73 | Win rate: 0.531 | time: 7.44 minutes\n",
      "Epoch: 181/14999 | Loss: 0.0028 | Episodes: 139 | Win count: 73 | Win rate: 0.500 | time: 7.49 minutes\n",
      "Epoch: 182/14999 | Loss: 0.0013 | Episodes: 53 | Win count: 74 | Win rate: 0.531 | time: 7.51 minutes\n",
      "Epoch: 183/14999 | Loss: 0.0027 | Episodes: 20 | Win count: 75 | Win rate: 0.531 | time: 7.52 minutes\n",
      "Epoch: 184/14999 | Loss: 0.0002 | Episodes: 127 | Win count: 76 | Win rate: 0.531 | time: 7.58 minutes\n",
      "Epoch: 185/14999 | Loss: 0.0004 | Episodes: 139 | Win count: 76 | Win rate: 0.531 | time: 7.63 minutes\n",
      "Epoch: 186/14999 | Loss: 0.0009 | Episodes: 25 | Win count: 77 | Win rate: 0.531 | time: 7.64 minutes\n",
      "Epoch: 187/14999 | Loss: 0.0006 | Episodes: 42 | Win count: 78 | Win rate: 0.562 | time: 7.65 minutes\n",
      "Epoch: 188/14999 | Loss: 0.0007 | Episodes: 37 | Win count: 79 | Win rate: 0.562 | time: 7.67 minutes\n",
      "Epoch: 189/14999 | Loss: 0.0006 | Episodes: 2 | Win count: 80 | Win rate: 0.562 | time: 7.67 minutes\n",
      "Epoch: 190/14999 | Loss: 0.0008 | Episodes: 139 | Win count: 80 | Win rate: 0.531 | time: 7.73 minutes\n",
      "Epoch: 191/14999 | Loss: 0.0007 | Episodes: 49 | Win count: 81 | Win rate: 0.531 | time: 7.75 minutes\n",
      "Epoch: 192/14999 | Loss: 0.0017 | Episodes: 7 | Win count: 82 | Win rate: 0.531 | time: 7.75 minutes\n",
      "Epoch: 193/14999 | Loss: 0.0012 | Episodes: 34 | Win count: 83 | Win rate: 0.562 | time: 7.76 minutes\n",
      "Epoch: 194/14999 | Loss: 0.0010 | Episodes: 1 | Win count: 84 | Win rate: 0.562 | time: 7.77 minutes\n",
      "Epoch: 195/14999 | Loss: 0.0014 | Episodes: 46 | Win count: 85 | Win rate: 0.594 | time: 7.78 minutes\n",
      "Epoch: 196/14999 | Loss: 0.0007 | Episodes: 29 | Win count: 86 | Win rate: 0.625 | time: 7.79 minutes\n",
      "Epoch: 197/14999 | Loss: 0.0018 | Episodes: 35 | Win count: 87 | Win rate: 0.625 | time: 7.81 minutes\n",
      "Epoch: 198/14999 | Loss: 0.0008 | Episodes: 138 | Win count: 87 | Win rate: 0.625 | time: 7.87 minutes\n",
      "Epoch: 199/14999 | Loss: 0.0014 | Episodes: 38 | Win count: 88 | Win rate: 0.656 | time: 7.88 minutes\n",
      "Epoch: 200/14999 | Loss: 0.0027 | Episodes: 136 | Win count: 88 | Win rate: 0.625 | time: 7.94 minutes\n",
      "Epoch: 201/14999 | Loss: 0.0025 | Episodes: 135 | Win count: 88 | Win rate: 0.625 | time: 8.00 minutes\n",
      "Epoch: 202/14999 | Loss: 0.0007 | Episodes: 48 | Win count: 89 | Win rate: 0.625 | time: 8.02 minutes\n",
      "Epoch: 203/14999 | Loss: 0.0002 | Episodes: 84 | Win count: 90 | Win rate: 0.656 | time: 8.05 minutes\n",
      "Epoch: 204/14999 | Loss: 0.0001 | Episodes: 138 | Win count: 90 | Win rate: 0.656 | time: 8.11 minutes\n",
      "Epoch: 205/14999 | Loss: 0.0016 | Episodes: 15 | Win count: 91 | Win rate: 0.688 | time: 8.11 minutes\n",
      "Epoch: 206/14999 | Loss: 0.0009 | Episodes: 1 | Win count: 92 | Win rate: 0.719 | time: 8.11 minutes\n",
      "Epoch: 207/14999 | Loss: 0.0019 | Episodes: 138 | Win count: 92 | Win rate: 0.688 | time: 8.16 minutes\n",
      "Epoch: 208/14999 | Loss: 0.0007 | Episodes: 142 | Win count: 93 | Win rate: 0.719 | time: 8.22 minutes\n",
      "Epoch: 209/14999 | Loss: 0.0009 | Episodes: 84 | Win count: 94 | Win rate: 0.719 | time: 8.25 minutes\n",
      "Epoch: 210/14999 | Loss: 0.0021 | Episodes: 29 | Win count: 95 | Win rate: 0.719 | time: 8.26 minutes\n",
      "Epoch: 211/14999 | Loss: 0.0013 | Episodes: 146 | Win count: 95 | Win rate: 0.719 | time: 8.31 minutes\n",
      "Epoch: 212/14999 | Loss: 0.0003 | Episodes: 97 | Win count: 96 | Win rate: 0.719 | time: 8.36 minutes\n",
      "Epoch: 213/14999 | Loss: 0.0017 | Episodes: 31 | Win count: 97 | Win rate: 0.750 | time: 8.37 minutes\n",
      "Epoch: 214/14999 | Loss: 0.0014 | Episodes: 142 | Win count: 97 | Win rate: 0.719 | time: 8.43 minutes\n",
      "Epoch: 215/14999 | Loss: 0.0020 | Episodes: 141 | Win count: 98 | Win rate: 0.719 | time: 8.48 minutes\n",
      "Epoch: 216/14999 | Loss: 0.0021 | Episodes: 136 | Win count: 98 | Win rate: 0.688 | time: 8.53 minutes\n",
      "Epoch: 217/14999 | Loss: 0.0001 | Episodes: 155 | Win count: 99 | Win rate: 0.719 | time: 8.59 minutes\n",
      "Epoch: 218/14999 | Loss: 0.0011 | Episodes: 16 | Win count: 100 | Win rate: 0.719 | time: 8.60 minutes\n",
      "Epoch: 219/14999 | Loss: 0.0002 | Episodes: 138 | Win count: 100 | Win rate: 0.688 | time: 8.65 minutes\n",
      "Epoch: 220/14999 | Loss: 0.0014 | Episodes: 2 | Win count: 101 | Win rate: 0.688 | time: 8.65 minutes\n",
      "Epoch: 221/14999 | Loss: 0.0019 | Episodes: 5 | Win count: 102 | Win rate: 0.688 | time: 8.65 minutes\n",
      "Epoch: 222/14999 | Loss: 0.0005 | Episodes: 52 | Win count: 103 | Win rate: 0.719 | time: 8.67 minutes\n",
      "Epoch: 223/14999 | Loss: 0.0016 | Episodes: 88 | Win count: 104 | Win rate: 0.719 | time: 8.70 minutes\n",
      "Epoch: 224/14999 | Loss: 0.0025 | Episodes: 56 | Win count: 105 | Win rate: 0.719 | time: 8.73 minutes\n",
      "Epoch: 225/14999 | Loss: 0.0024 | Episodes: 35 | Win count: 106 | Win rate: 0.719 | time: 8.74 minutes\n",
      "Epoch: 226/14999 | Loss: 0.0020 | Episodes: 101 | Win count: 107 | Win rate: 0.719 | time: 8.77 minutes\n",
      "Epoch: 227/14999 | Loss: 0.0012 | Episodes: 5 | Win count: 108 | Win rate: 0.719 | time: 8.78 minutes\n",
      "Epoch: 228/14999 | Loss: 0.0007 | Episodes: 38 | Win count: 109 | Win rate: 0.719 | time: 8.79 minutes\n",
      "Epoch: 229/14999 | Loss: 0.0020 | Episodes: 2 | Win count: 110 | Win rate: 0.719 | time: 8.79 minutes\n",
      "Epoch: 230/14999 | Loss: 0.0009 | Episodes: 11 | Win count: 111 | Win rate: 0.750 | time: 8.79 minutes\n",
      "Epoch: 231/14999 | Loss: 0.0011 | Episodes: 40 | Win count: 112 | Win rate: 0.750 | time: 8.81 minutes\n",
      "Epoch: 232/14999 | Loss: 0.0009 | Episodes: 150 | Win count: 112 | Win rate: 0.750 | time: 8.86 minutes\n",
      "Epoch: 233/14999 | Loss: 0.0007 | Episodes: 46 | Win count: 113 | Win rate: 0.781 | time: 8.88 minutes\n",
      "Epoch: 234/14999 | Loss: 0.0019 | Episodes: 1 | Win count: 114 | Win rate: 0.781 | time: 8.88 minutes\n",
      "Epoch: 235/14999 | Loss: 0.0017 | Episodes: 113 | Win count: 115 | Win rate: 0.781 | time: 8.92 minutes\n",
      "Epoch: 236/14999 | Loss: 0.0024 | Episodes: 32 | Win count: 116 | Win rate: 0.812 | time: 8.93 minutes\n",
      "Epoch: 237/14999 | Loss: 0.0018 | Episodes: 14 | Win count: 117 | Win rate: 0.812 | time: 8.93 minutes\n",
      "Epoch: 238/14999 | Loss: 0.0008 | Episodes: 36 | Win count: 118 | Win rate: 0.812 | time: 8.95 minutes\n",
      "Epoch: 239/14999 | Loss: 0.0020 | Episodes: 9 | Win count: 119 | Win rate: 0.844 | time: 8.95 minutes\n",
      "Epoch: 240/14999 | Loss: 0.0019 | Episodes: 11 | Win count: 120 | Win rate: 0.844 | time: 8.96 minutes\n",
      "Epoch: 241/14999 | Loss: 0.0009 | Episodes: 17 | Win count: 121 | Win rate: 0.844 | time: 8.96 minutes\n",
      "Epoch: 242/14999 | Loss: 0.0011 | Episodes: 75 | Win count: 122 | Win rate: 0.844 | time: 8.99 minutes\n",
      "Epoch: 243/14999 | Loss: 0.0022 | Episodes: 155 | Win count: 122 | Win rate: 0.844 | time: 9.05 minutes\n",
      "Epoch: 244/14999 | Loss: 0.0018 | Episodes: 1 | Win count: 123 | Win rate: 0.844 | time: 9.05 minutes\n",
      "Epoch: 245/14999 | Loss: 0.0026 | Episodes: 1 | Win count: 124 | Win rate: 0.844 | time: 9.06 minutes\n",
      "Epoch: 246/14999 | Loss: 0.0022 | Episodes: 25 | Win count: 125 | Win rate: 0.875 | time: 9.06 minutes\n",
      "Epoch: 247/14999 | Loss: 0.0020 | Episodes: 13 | Win count: 126 | Win rate: 0.875 | time: 9.07 minutes\n",
      "Epoch: 248/14999 | Loss: 0.0014 | Episodes: 142 | Win count: 127 | Win rate: 0.906 | time: 9.13 minutes\n",
      "Epoch: 249/14999 | Loss: 0.0012 | Episodes: 17 | Win count: 128 | Win rate: 0.906 | time: 9.13 minutes\n",
      "Epoch: 250/14999 | Loss: 0.0015 | Episodes: 6 | Win count: 129 | Win rate: 0.906 | time: 9.14 minutes\n",
      "Epoch: 251/14999 | Loss: 0.0016 | Episodes: 63 | Win count: 130 | Win rate: 0.938 | time: 9.16 minutes\n",
      "Epoch: 252/14999 | Loss: 0.0013 | Episodes: 59 | Win count: 131 | Win rate: 0.938 | time: 9.18 minutes\n",
      "Epoch: 253/14999 | Loss: 0.0015 | Episodes: 36 | Win count: 132 | Win rate: 0.938 | time: 9.19 minutes\n",
      "Epoch: 254/14999 | Loss: 0.0019 | Episodes: 31 | Win count: 133 | Win rate: 0.938 | time: 9.21 minutes\n",
      "Epoch: 255/14999 | Loss: 0.0022 | Episodes: 21 | Win count: 134 | Win rate: 0.938 | time: 9.21 minutes\n",
      "Epoch: 256/14999 | Loss: 0.0022 | Episodes: 20 | Win count: 135 | Win rate: 0.938 | time: 9.22 minutes\n",
      "Epoch: 257/14999 | Loss: 0.0011 | Episodes: 135 | Win count: 135 | Win rate: 0.906 | time: 9.28 minutes\n",
      "Epoch: 258/14999 | Loss: 0.0007 | Episodes: 16 | Win count: 136 | Win rate: 0.906 | time: 9.28 minutes\n",
      "Epoch: 259/14999 | Loss: 0.0014 | Episodes: 34 | Win count: 137 | Win rate: 0.906 | time: 9.30 minutes\n",
      "Epoch: 260/14999 | Loss: 0.0012 | Episodes: 2 | Win count: 138 | Win rate: 0.906 | time: 9.30 minutes\n",
      "Epoch: 261/14999 | Loss: 0.0010 | Episodes: 24 | Win count: 139 | Win rate: 0.906 | time: 9.30 minutes\n",
      "Epoch: 262/14999 | Loss: 0.0019 | Episodes: 21 | Win count: 140 | Win rate: 0.906 | time: 9.31 minutes\n",
      "Epoch: 263/14999 | Loss: 0.0015 | Episodes: 9 | Win count: 141 | Win rate: 0.906 | time: 9.32 minutes\n",
      "Epoch: 264/14999 | Loss: 0.0016 | Episodes: 69 | Win count: 142 | Win rate: 0.938 | time: 9.34 minutes\n",
      "Epoch: 265/14999 | Loss: 0.0007 | Episodes: 14 | Win count: 143 | Win rate: 0.938 | time: 9.35 minutes\n",
      "Epoch: 266/14999 | Loss: 0.0024 | Episodes: 1 | Win count: 144 | Win rate: 0.938 | time: 9.35 minutes\n",
      "Epoch: 267/14999 | Loss: 0.0031 | Episodes: 1 | Win count: 145 | Win rate: 0.938 | time: 9.35 minutes\n",
      "Epoch: 268/14999 | Loss: 0.0013 | Episodes: 62 | Win count: 146 | Win rate: 0.938 | time: 9.37 minutes\n",
      "Epoch: 269/14999 | Loss: 0.0008 | Episodes: 2 | Win count: 147 | Win rate: 0.938 | time: 9.37 minutes\n",
      "Epoch: 270/14999 | Loss: 0.0013 | Episodes: 52 | Win count: 148 | Win rate: 0.938 | time: 9.40 minutes\n",
      "Epoch: 271/14999 | Loss: 0.0016 | Episodes: 6 | Win count: 149 | Win rate: 0.938 | time: 9.40 minutes\n",
      "Epoch: 272/14999 | Loss: 0.0017 | Episodes: 72 | Win count: 150 | Win rate: 0.938 | time: 9.43 minutes\n",
      "Epoch: 273/14999 | Loss: 0.0018 | Episodes: 2 | Win count: 151 | Win rate: 0.938 | time: 9.43 minutes\n",
      "Epoch: 274/14999 | Loss: 0.0003 | Episodes: 12 | Win count: 152 | Win rate: 0.938 | time: 9.43 minutes\n",
      "Epoch: 275/14999 | Loss: 0.0014 | Episodes: 9 | Win count: 153 | Win rate: 0.969 | time: 9.44 minutes\n",
      "Epoch: 276/14999 | Loss: 0.0014 | Episodes: 6 | Win count: 154 | Win rate: 0.969 | time: 9.44 minutes\n",
      "Epoch: 277/14999 | Loss: 0.0018 | Episodes: 35 | Win count: 155 | Win rate: 0.969 | time: 9.45 minutes\n",
      "Epoch: 278/14999 | Loss: 0.0026 | Episodes: 20 | Win count: 156 | Win rate: 0.969 | time: 9.46 minutes\n",
      "Epoch: 279/14999 | Loss: 0.0033 | Episodes: 110 | Win count: 157 | Win rate: 0.969 | time: 9.50 minutes\n",
      "Epoch: 280/14999 | Loss: 0.0013 | Episodes: 31 | Win count: 158 | Win rate: 0.969 | time: 9.51 minutes\n",
      "Epoch: 281/14999 | Loss: 0.0026 | Episodes: 148 | Win count: 158 | Win rate: 0.938 | time: 9.56 minutes\n",
      "Epoch: 282/14999 | Loss: 0.0012 | Episodes: 1 | Win count: 159 | Win rate: 0.938 | time: 9.56 minutes\n",
      "Epoch: 283/14999 | Loss: 0.0019 | Episodes: 140 | Win count: 159 | Win rate: 0.906 | time: 9.61 minutes\n",
      "Epoch: 284/14999 | Loss: 0.0013 | Episodes: 1 | Win count: 160 | Win rate: 0.906 | time: 9.62 minutes\n",
      "Epoch: 285/14999 | Loss: 0.0007 | Episodes: 118 | Win count: 161 | Win rate: 0.906 | time: 9.66 minutes\n",
      "Epoch: 286/14999 | Loss: 0.0021 | Episodes: 5 | Win count: 162 | Win rate: 0.906 | time: 9.66 minutes\n",
      "Epoch: 287/14999 | Loss: 0.0010 | Episodes: 13 | Win count: 163 | Win rate: 0.906 | time: 9.67 minutes\n",
      "Epoch: 288/14999 | Loss: 0.0020 | Episodes: 29 | Win count: 164 | Win rate: 0.906 | time: 9.68 minutes\n",
      "Epoch: 289/14999 | Loss: 0.0014 | Episodes: 22 | Win count: 165 | Win rate: 0.938 | time: 9.69 minutes\n",
      "Epoch: 290/14999 | Loss: 0.0012 | Episodes: 6 | Win count: 166 | Win rate: 0.938 | time: 9.69 minutes\n",
      "Epoch: 291/14999 | Loss: 0.0013 | Episodes: 21 | Win count: 167 | Win rate: 0.938 | time: 9.70 minutes\n",
      "Epoch: 292/14999 | Loss: 0.0013 | Episodes: 140 | Win count: 167 | Win rate: 0.906 | time: 9.76 minutes\n",
      "Epoch: 293/14999 | Loss: 0.0006 | Episodes: 13 | Win count: 168 | Win rate: 0.906 | time: 9.76 minutes\n",
      "Epoch: 294/14999 | Loss: 0.0010 | Episodes: 3 | Win count: 169 | Win rate: 0.906 | time: 9.77 minutes\n",
      "Epoch: 295/14999 | Loss: 0.0009 | Episodes: 14 | Win count: 170 | Win rate: 0.906 | time: 9.77 minutes\n",
      "Epoch: 296/14999 | Loss: 0.0004 | Episodes: 22 | Win count: 171 | Win rate: 0.906 | time: 9.78 minutes\n",
      "Epoch: 297/14999 | Loss: 0.0010 | Episodes: 28 | Win count: 172 | Win rate: 0.906 | time: 9.79 minutes\n",
      "Epoch: 298/14999 | Loss: 0.0015 | Episodes: 42 | Win count: 173 | Win rate: 0.906 | time: 9.81 minutes\n",
      "Epoch: 299/14999 | Loss: 0.0018 | Episodes: 78 | Win count: 174 | Win rate: 0.906 | time: 9.84 minutes\n",
      "Epoch: 300/14999 | Loss: 0.0006 | Episodes: 16 | Win count: 175 | Win rate: 0.906 | time: 9.84 minutes\n",
      "Epoch: 301/14999 | Loss: 0.0021 | Episodes: 46 | Win count: 176 | Win rate: 0.906 | time: 9.86 minutes\n",
      "Epoch: 302/14999 | Loss: 0.0006 | Episodes: 20 | Win count: 177 | Win rate: 0.906 | time: 9.87 minutes\n",
      "Epoch: 303/14999 | Loss: 0.0009 | Episodes: 13 | Win count: 178 | Win rate: 0.906 | time: 9.87 minutes\n",
      "Epoch: 304/14999 | Loss: 0.0008 | Episodes: 18 | Win count: 179 | Win rate: 0.906 | time: 9.88 minutes\n",
      "Epoch: 305/14999 | Loss: 0.0018 | Episodes: 113 | Win count: 180 | Win rate: 0.906 | time: 9.92 minutes\n",
      "Epoch: 306/14999 | Loss: 0.0013 | Episodes: 75 | Win count: 181 | Win rate: 0.906 | time: 9.95 minutes\n",
      "Epoch: 307/14999 | Loss: 0.0025 | Episodes: 40 | Win count: 182 | Win rate: 0.906 | time: 9.96 minutes\n",
      "Epoch: 308/14999 | Loss: 0.0014 | Episodes: 74 | Win count: 183 | Win rate: 0.906 | time: 10.00 minutes\n",
      "Epoch: 309/14999 | Loss: 0.0012 | Episodes: 4 | Win count: 184 | Win rate: 0.906 | time: 10.00 minutes\n",
      "Epoch: 310/14999 | Loss: 0.0014 | Episodes: 96 | Win count: 185 | Win rate: 0.906 | time: 10.03 minutes\n",
      "Epoch: 311/14999 | Loss: 0.0026 | Episodes: 23 | Win count: 186 | Win rate: 0.906 | time: 10.04 minutes\n",
      "Epoch: 312/14999 | Loss: 0.0021 | Episodes: 39 | Win count: 187 | Win rate: 0.906 | time: 10.06 minutes\n",
      "Epoch: 313/14999 | Loss: 0.0022 | Episodes: 40 | Win count: 188 | Win rate: 0.938 | time: 10.07 minutes\n",
      "Epoch: 314/14999 | Loss: 0.0032 | Episodes: 4 | Win count: 189 | Win rate: 0.938 | time: 10.08 minutes\n",
      "Epoch: 315/14999 | Loss: 0.0013 | Episodes: 89 | Win count: 190 | Win rate: 0.969 | time: 10.11 minutes\n",
      "Epoch: 316/14999 | Loss: 0.0024 | Episodes: 4 | Win count: 191 | Win rate: 0.969 | time: 10.11 minutes\n",
      "Epoch: 317/14999 | Loss: 0.0015 | Episodes: 35 | Win count: 192 | Win rate: 0.969 | time: 10.13 minutes\n",
      "Epoch: 318/14999 | Loss: 0.0012 | Episodes: 29 | Win count: 193 | Win rate: 0.969 | time: 10.14 minutes\n",
      "Epoch: 319/14999 | Loss: 0.0009 | Episodes: 8 | Win count: 194 | Win rate: 0.969 | time: 10.14 minutes\n",
      "Epoch: 320/14999 | Loss: 0.0010 | Episodes: 28 | Win count: 195 | Win rate: 0.969 | time: 10.15 minutes\n",
      "Epoch: 321/14999 | Loss: 0.0016 | Episodes: 8 | Win count: 196 | Win rate: 0.969 | time: 10.15 minutes\n",
      "Epoch: 322/14999 | Loss: 0.0012 | Episodes: 19 | Win count: 197 | Win rate: 0.969 | time: 10.16 minutes\n",
      "Epoch: 323/14999 | Loss: 0.0009 | Episodes: 35 | Win count: 198 | Win rate: 0.969 | time: 10.17 minutes\n",
      "Epoch: 324/14999 | Loss: 0.0013 | Episodes: 94 | Win count: 199 | Win rate: 1.000 | time: 10.21 minutes\n",
      "Epoch: 325/14999 | Loss: 0.0015 | Episodes: 34 | Win count: 200 | Win rate: 1.000 | time: 10.23 minutes\n",
      "Epoch: 326/14999 | Loss: 0.0006 | Episodes: 31 | Win count: 201 | Win rate: 1.000 | time: 10.24 minutes\n",
      "Epoch: 327/14999 | Loss: 0.0010 | Episodes: 35 | Win count: 202 | Win rate: 1.000 | time: 10.26 minutes\n",
      "Epoch: 328/14999 | Loss: 0.0017 | Episodes: 37 | Win count: 203 | Win rate: 1.000 | time: 10.28 minutes\n",
      "Epoch: 329/14999 | Loss: 0.0019 | Episodes: 5 | Win count: 204 | Win rate: 1.000 | time: 10.28 minutes\n",
      "Epoch: 330/14999 | Loss: 0.0012 | Episodes: 50 | Win count: 205 | Win rate: 1.000 | time: 10.30 minutes\n",
      "Epoch: 331/14999 | Loss: 0.0010 | Episodes: 5 | Win count: 206 | Win rate: 1.000 | time: 10.30 minutes\n",
      "Epoch: 332/14999 | Loss: 0.0020 | Episodes: 33 | Win count: 207 | Win rate: 1.000 | time: 10.32 minutes\n",
      "Epoch: 333/14999 | Loss: 0.0018 | Episodes: 1 | Win count: 208 | Win rate: 1.000 | time: 10.32 minutes\n",
      "Epoch: 334/14999 | Loss: 0.0018 | Episodes: 28 | Win count: 209 | Win rate: 1.000 | time: 10.35 minutes\n",
      "Epoch: 335/14999 | Loss: 0.0023 | Episodes: 39 | Win count: 210 | Win rate: 1.000 | time: 10.37 minutes\n",
      "Epoch: 336/14999 | Loss: 0.0011 | Episodes: 14 | Win count: 211 | Win rate: 1.000 | time: 10.38 minutes\n",
      "Epoch: 337/14999 | Loss: 0.0012 | Episodes: 1 | Win count: 212 | Win rate: 1.000 | time: 10.38 minutes\n",
      "Epoch: 338/14999 | Loss: 0.0005 | Episodes: 32 | Win count: 213 | Win rate: 1.000 | time: 10.40 minutes\n",
      "Epoch: 339/14999 | Loss: 0.0013 | Episodes: 57 | Win count: 214 | Win rate: 1.000 | time: 10.43 minutes\n",
      "Epoch: 340/14999 | Loss: 0.0009 | Episodes: 4 | Win count: 215 | Win rate: 1.000 | time: 10.43 minutes\n",
      "Epoch: 341/14999 | Loss: 0.0020 | Episodes: 34 | Win count: 216 | Win rate: 1.000 | time: 10.45 minutes\n",
      "Epoch: 342/14999 | Loss: 0.0009 | Episodes: 23 | Win count: 217 | Win rate: 1.000 | time: 10.46 minutes\n",
      "Epoch: 343/14999 | Loss: 0.0007 | Episodes: 33 | Win count: 218 | Win rate: 1.000 | time: 10.47 minutes\n",
      "Epoch: 344/14999 | Loss: 0.0015 | Episodes: 12 | Win count: 219 | Win rate: 1.000 | time: 10.48 minutes\n",
      "Epoch: 345/14999 | Loss: 0.0012 | Episodes: 19 | Win count: 220 | Win rate: 1.000 | time: 10.49 minutes\n",
      "Epoch: 346/14999 | Loss: 0.0008 | Episodes: 13 | Win count: 221 | Win rate: 1.000 | time: 10.50 minutes\n",
      "Epoch: 347/14999 | Loss: 0.0008 | Episodes: 11 | Win count: 222 | Win rate: 1.000 | time: 10.51 minutes\n",
      "Epoch: 348/14999 | Loss: 0.0017 | Episodes: 20 | Win count: 223 | Win rate: 1.000 | time: 10.52 minutes\n",
      "Epoch: 349/14999 | Loss: 0.0017 | Episodes: 21 | Win count: 224 | Win rate: 1.000 | time: 10.53 minutes\n",
      "Epoch: 350/14999 | Loss: 0.0007 | Episodes: 30 | Win count: 225 | Win rate: 1.000 | time: 10.55 minutes\n",
      "Epoch: 351/14999 | Loss: 0.0009 | Episodes: 3 | Win count: 226 | Win rate: 1.000 | time: 10.55 minutes\n",
      "Epoch: 352/14999 | Loss: 0.0014 | Episodes: 58 | Win count: 227 | Win rate: 1.000 | time: 10.57 minutes\n",
      "Epoch: 353/14999 | Loss: 0.0009 | Episodes: 26 | Win count: 228 | Win rate: 1.000 | time: 10.59 minutes\n",
      "Epoch: 354/14999 | Loss: 0.0009 | Episodes: 53 | Win count: 229 | Win rate: 1.000 | time: 10.61 minutes\n",
      "Reached 100% win rate at epoch: 354\n",
      "n_epoch: 354, max_mem: 512, data: 32, time: 10.63 minutes\n"
     ]
    },
    {
     "data": {
      "text/plain": [
       "637.635749"
      ]
     },
     "execution_count": 11,
     "metadata": {},
     "output_type": "execute_result"
    }
   ],
   "source": [
    "model = build_model(maze)\n",
    "qtrain(model, maze, epochs=1000, max_memory=8*maze.size, data_size=32)"
   ]
  },
  {
   "cell_type": "markdown",
   "metadata": {},
   "source": [
    "This cell will check to see if the model passes the completion check. Note: This could take several minutes."
   ]
  },
  {
   "cell_type": "code",
   "execution_count": 12,
   "metadata": {},
   "outputs": [
    {
     "data": {
      "text/plain": [
       "<matplotlib.image.AxesImage at 0x1507952c7c8>"
      ]
     },
     "execution_count": 12,
     "metadata": {},
     "output_type": "execute_result"
    },
    {
     "data": {
      "image/png": "[encoded data removed]",
      "text/plain": [
       "<Figure size 432x288 with 1 Axes>"
      ]
     },
     "metadata": {
      "needs_background": "light"
     },
     "output_type": "display_data"
    }
   ],
   "source": [
    "completion_check(model, qmaze)\n",
    "show(qmaze)"
   ]
  },
  {
   "cell_type": "markdown",
   "metadata": {},
   "source": [
    "This cell will test your model for one game. It will start the pirate at the top-left corner and run play_game. The agent should find a path from the starting position to the target (treasure). The treasure is located in the bottom-right corner."
   ]
  },
  {
   "cell_type": "code",
   "execution_count": 13,
   "metadata": {},
   "outputs": [
    {
     "data": {
      "text/plain": [
       "<matplotlib.image.AxesImage at 0x1507959b3c8>"
      ]
     },
     "execution_count": 13,
     "metadata": {},
     "output_type": "execute_result"
    },
    {
     "data": {
      "image/png": "[encoded data removed]",
      "text/plain": [
       "<Figure size 432x288 with 1 Axes>"
      ]
     },
     "metadata": {
      "needs_background": "light"
     },
     "output_type": "display_data"
    }
   ],
   "source": [
    "pirate_start = (0, 0)\n",
    "play_game(model, qmaze, pirate_start)\n",
    "show(qmaze)"
   ]
  },
  {
   "cell_type": "markdown",
   "metadata": {},
   "source": [
    "## Save and Submit Your Work\n",
    "After you have finished creating the code for your notebook, save your work. Make sure that your notebook contains your name in the filename (e.g. Doe_Jane_ProjectTwo.ipynb). This will help your instructor access and grade your work easily. Download a copy of your IPYNB file and submit it to Brightspace. Refer to the Jupyter Notebook in Apporto Tutorial if you need help with these tasks."
   ]
  }
 ],
 "metadata": {
  "kernelspec": {
   "display_name": "Python 3",
   "language": "python",
   "name": "python3"
  },
  "language_info": {
   "codemirror_mode": {
    "name": "ipython",
    "version": 3
   },
   "file_extension": ".py",
   "mimetype": "text/x-python",
   "name": "python",
   "nbconvert_exporter": "python",
   "pygments_lexer": "ipython3",
   "version": "3.7.4"
  }
 },
 "nbformat": 4,
 "nbformat_minor": 2
}
